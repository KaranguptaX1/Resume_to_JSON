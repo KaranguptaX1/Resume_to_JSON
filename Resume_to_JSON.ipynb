{
  "nbformat": 4,
  "nbformat_minor": 0,
  "metadata": {
    "colab": {
      "provenance": [],
      "authorship_tag": "ABX9TyMvmIvIYxQCRuvYi7u3nifx",
      "include_colab_link": true
    },
    "kernelspec": {
      "name": "python3",
      "display_name": "Python 3"
    },
    "language_info": {
      "name": "python"
    }
  },
  "cells": [
    {
      "cell_type": "markdown",
      "metadata": {
        "id": "view-in-github",
        "colab_type": "text"
      },
      "source": [
        "<a href=\"https://colab.research.google.com/github/KaranguptaX1/Resume_to_JSON/blob/main/Resume_to_JSON.ipynb\" target=\"_parent\"><img src=\"https://colab.research.google.com/assets/colab-badge.svg\" alt=\"Open In Colab\"/></a>"
      ]
    },
    {
      "cell_type": "code",
      "execution_count": null,
      "metadata": {
        "id": "IyfMIcq2hqMe"
      },
      "outputs": [],
      "source": [
        "import openai\n",
        "import json\n",
        "\n",
        "openai.api_key = 'your-api-key-here'\n",
        "\n",
        "def parse_resume_to_json(resume_text):\n",
        "    prompt = f\"\"\"\n",
        "    You are an AI assistant. Your task is to parse the provided resume content and convert it into a structured JSON format. The JSON should contain the following fields: Name, Contact Information, Education, Work Experience, Skills, and Certifications. Below is an example of the format for the JSON output:\n",
        "\n",
        "    {{\n",
        "      \"Name\": \"John Doe\",\n",
        "      \"Contact Information\": {{\n",
        "        \"Email\": \"john.doe@example.com\",\n",
        "        \"Phone\": \"123-456-7890\",\n",
        "        \"LinkedIn\": \"https://linkedin.com/in/johndoe\"\n",
        "      }},\n",
        "      \"Education\": [\n",
        "        {{\n",
        "          \"Degree\": \"B.Sc. in Computer Science\",\n",
        "          \"Institution\": \"University of Example\",\n",
        "          \"Year\": \"2015-2019\"\n",
        "        }}\n",
        "      ],\n",
        "      \"Work Experience\": [\n",
        "        {{\n",
        "          \"Title\": \"Software Engineer\",\n",
        "          \"Company\": \"Tech Corp\",\n",
        "          \"Duration\": \"2019-2023\",\n",
        "          \"Responsibilities\": [\n",
        "            \"Developed web applications using JavaScript and Python\",\n",
        "            \"Collaborated with cross-functional teams to define project requirements\"\n",
        "          ]\n",
        "        }}\n",
        "      ],\n",
        "      \"Skills\": [\n",
        "        \"JavaScript\",\n",
        "        \"Python\",\n",
        "        \"Machine Learning\"\n",
        "      ],\n",
        "      \"Certifications\": [\n",
        "        {{\n",
        "          \"Name\": \"Certified Kubernetes Administrator\",\n",
        "          \"Issuing Organization\": \"CNCF\",\n",
        "          \"Year\": \"2020\"\n",
        "        }}\n",
        "      ]\n",
        "    }}\n",
        "\n",
        "    Now, parse the following resume content into the JSON format described above:\n",
        "\n",
        "    {resume_text}\n",
        "    \"\"\"\n",
        "\n",
        "    response = openai.Completion.create(\n",
        "        engine=\"text-davinci-003\",\n",
        "        prompt=prompt,\n",
        "        max_tokens=1000\n",
        "    )\n",
        "\n",
        "    return response.choices[0].text.strip()\n",
        "\n",
        "def main():\n",
        "    print(\"Please enter your resume content (press Enter twice to submit):\")\n",
        "    resume_text = []\n",
        "    while True:\n",
        "        line = input()\n",
        "        if line == \"\":\n",
        "            break\n",
        "        resume_text.append(line)\n",
        "    resume_text = \"\\n\".join(resume_text)\n",
        "\n",
        "    parsed_json = parse_resume_to_json(resume_text)\n",
        "    print(\"Parsed JSON:\")\n",
        "    print(parsed_json)\n",
        "\n",
        "if __name__ == \"__main__\":\n",
        "    main()\n"
      ]
    }
  ]
}